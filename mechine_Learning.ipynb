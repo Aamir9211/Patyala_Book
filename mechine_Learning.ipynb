{
 "cells": [
  {
   "cell_type": "markdown",
   "metadata": {},
   "source": [
    "# Mechine Learning Programm"
   ]
  },
  {
   "cell_type": "markdown",
   "metadata": {},
   "source": [
    "- ### Simple Linear Regression"
   ]
  },
  {
   "cell_type": "code",
   "execution_count": 10,
   "metadata": {},
   "outputs": [
    {
     "name": "stdout",
     "output_type": "stream",
     "text": [
      "Now start mechine learning course please becarefull ok\n"
     ]
    }
   ],
   "source": [
    "print (\"Now start mechine learning course please becarefull ok\")"
   ]
  },
  {
   "cell_type": "code",
   "execution_count": 11,
   "metadata": {},
   "outputs": [
    {
     "name": "stdout",
     "output_type": "stream",
     "text": [
      "Big Deal on meachine learning \n"
     ]
    }
   ],
   "source": [
    "print (\"Big Deal on meachine learning \")\n"
   ]
  },
  {
   "cell_type": "code",
   "execution_count": 12,
   "metadata": {},
   "outputs": [
    {
     "name": "stdout",
     "output_type": "stream",
     "text": [
      "4\n"
     ]
    }
   ],
   "source": [
    "print (2 + 2)"
   ]
  },
  {
   "cell_type": "code",
   "execution_count": 13,
   "metadata": {},
   "outputs": [],
   "source": [
    "name : str = \"Muhammad Aamir Rana\"\n",
    "fname: str = \"Muhammad Amin\"\n",
    "education : str = \"Master in Data Science\"\n",
    "age : int = 30\n",
    "roll_Number : int = 42011\n",
    "\n",
    "# card : str = \"PIAIC STUDENT CARD Student Name: \" + name\n",
    "# card"
   ]
  },
  {
   "cell_type": "markdown",
   "metadata": {},
   "source": []
  },
  {
   "cell_type": "markdown",
   "metadata": {},
   "source": [
    "## F- string"
   ]
  },
  {
   "cell_type": "code",
   "execution_count": 7,
   "metadata": {},
   "outputs": [
    {
     "name": "stdout",
     "output_type": "stream",
     "text": [
      "\n",
      "PIAIC STUDENT CARD\n",
      "Student Name : Muhammad Aamir Rana\n",
      "Father's Name: Muhammad Amin\n",
      "Age: 30\n",
      "Education :Master in Data Science \n",
      "Roll Number:42011  \n",
      "Total 435\n",
      "\n"
     ]
    }
   ],
   "source": [
    "name : str = \"Muhammad Aamir Rana\"\n",
    "fname: str = \"Muhammad Amin\"\n",
    "education : str = \"Master in Data Science\"\n",
    "age : int = 30\n",
    "roll_Number : int = 42011\n",
    "\n",
    "card : str = f\"\"\"\n",
    "PIAIC STUDENT CARD\n",
    "Student Name : {name}\n",
    "Father's Name: {fname}\n",
    "Age: {age}\n",
    "Education :{education} \n",
    "Roll Number:{roll_Number}  \n",
    "Total {29 + 2 + 4 + 400}\n",
    "\"\"\"\n",
    "print(card)"
   ]
  },
  {
   "cell_type": "markdown",
   "metadata": {},
   "source": [
    "## jinja Style"
   ]
  },
  {
   "cell_type": "markdown",
   "metadata": {},
   "source": [
    "\"\"\"\n",
    "Student name {{name}}\n",
    "\"\"\""
   ]
  },
  {
   "cell_type": "markdown",
   "metadata": {},
   "source": [
    "## list comprehensive "
   ]
  },
  {
   "cell_type": "code",
   "execution_count": 8,
   "metadata": {},
   "outputs": [
    {
     "data": {
      "text/plain": [
       "['capitalize',\n",
       " 'casefold',\n",
       " 'center',\n",
       " 'count',\n",
       " 'encode',\n",
       " 'endswith',\n",
       " 'expandtabs',\n",
       " 'find',\n",
       " 'format',\n",
       " 'format_map',\n",
       " 'index',\n",
       " 'isalnum',\n",
       " 'isalpha',\n",
       " 'isascii',\n",
       " 'isdecimal',\n",
       " 'isdigit',\n",
       " 'isidentifier',\n",
       " 'islower',\n",
       " 'isnumeric',\n",
       " 'isprintable',\n",
       " 'isspace',\n",
       " 'istitle',\n",
       " 'isupper',\n",
       " 'join',\n",
       " 'ljust',\n",
       " 'lower',\n",
       " 'lstrip',\n",
       " 'maketrans',\n",
       " 'partition',\n",
       " 'removeprefix',\n",
       " 'removesuffix',\n",
       " 'replace',\n",
       " 'rfind',\n",
       " 'rindex',\n",
       " 'rjust',\n",
       " 'rpartition',\n",
       " 'rsplit',\n",
       " 'rstrip',\n",
       " 'split',\n",
       " 'splitlines',\n",
       " 'startswith',\n",
       " 'strip',\n",
       " 'swapcase',\n",
       " 'title',\n",
       " 'translate',\n",
       " 'upper',\n",
       " 'zfill']"
      ]
     },
     "execution_count": 8,
     "metadata": {},
     "output_type": "execute_result"
    }
   ],
   "source": [
    "[i for i in dir (str) if \"__\" not in i]"
   ]
  },
  {
   "cell_type": "markdown",
   "metadata": {},
   "source": [
    "## PLACE HOLDER KEHLATA H. YE KARLI BRAKIT { } YE. "
   ]
  },
  {
   "cell_type": "markdown",
   "metadata": {},
   "source": [
    "### YE FORMAT KA METHOD H. "
   ]
  },
  {
   "cell_type": "code",
   "execution_count": 10,
   "metadata": {},
   "outputs": [
    {
     "data": {
      "text/plain": [
       "'Pakistan value a = 7 and value b = 8'"
      ]
     },
     "execution_count": 10,
     "metadata": {},
     "output_type": "execute_result"
    }
   ],
   "source": [
    "a = 7\n",
    "b = 8\n",
    "\"Pakistan value a = {} and value b = {}\".format(a,b)\n"
   ]
  },
  {
   "cell_type": "markdown",
   "metadata": {},
   "source": [
    "### .format wala tarika "
   ]
  },
  {
   "cell_type": "markdown",
   "metadata": {},
   "source": [
    "### UNSEKVENCE DATA VARIBALES "
   ]
  },
  {
   "cell_type": "code",
   "execution_count": 12,
   "metadata": {},
   "outputs": [
    {
     "name": "stdout",
     "output_type": "stream",
     "text": [
      "\n",
      "PIAIC STUDENT CARD\n",
      "Student Name : Muhammad Aamir Rana\n",
      "Father's Name: Muhammad Amin\n",
      "Age: Master in Data Science\n",
      "Education :30 \n",
      "Roll Number:42011  \n",
      "\n"
     ]
    }
   ],
   "source": [
    "name : str = \"Muhammad Aamir Rana\"\n",
    "fname: str = \"Muhammad Amin\"\n",
    "education : str = \"Master in Data Science\"\n",
    "age : int = 30\n",
    "roll_Number : int = 42011\n",
    "\n",
    "card1 : str = \"\"\"\n",
    "PIAIC STUDENT CARD\n",
    "Student Name : {}\n",
    "Father's Name: {}\n",
    "Age: {}\n",
    "Education :{} \n",
    "Roll Number:{}  \n",
    "\"\"\".format(name,fname,education,age,roll_Number)\n",
    "print(card1)"
   ]
  },
  {
   "cell_type": "markdown",
   "metadata": {},
   "source": [
    "## 2nd Tareka for indexing number dy kar ap variable set kar sakty hain."
   ]
  },
  {
   "cell_type": "code",
   "execution_count": 14,
   "metadata": {},
   "outputs": [
    {
     "name": "stdout",
     "output_type": "stream",
     "text": [
      "\n",
      "PIAIC STUDENT CARD\n",
      "Student Name : Muhammad Aamir Rana\n",
      "Father's Name: Muhammad Amin\n",
      "Age: 30\n",
      "Education :Master in Data Science \n",
      "Roll Number:42011  \n",
      "\n"
     ]
    }
   ],
   "source": [
    "name : str = \"Muhammad Aamir Rana\"\n",
    "fname: str = \"Muhammad Amin\"\n",
    "education : str = \"Master in Data Science\"\n",
    "age : int = 30\n",
    "roll_Number : int = 42011\n",
    "\n",
    "card1 : str = \"\"\"\n",
    "PIAIC STUDENT CARD\n",
    "Student Name : {0}\n",
    "Father's Name: {1}\n",
    "Age: {3}\n",
    "Education :{2} \n",
    "Roll Number:{4}  \n",
    "\"\"\".format(name,fname,education,age,roll_Number)\n",
    "print(card1)"
   ]
  },
  {
   "cell_type": "markdown",
   "metadata": {},
   "source": [
    "### AP INDEXING KI JAGAH APNA KOI BHI NAME DY SAKTY HAIN YE 3rd TARIKA H. EXAMPLE AP K SAMNY"
   ]
  },
  {
   "cell_type": "code",
   "execution_count": 15,
   "metadata": {},
   "outputs": [
    {
     "name": "stdout",
     "output_type": "stream",
     "text": [
      "\n",
      "PIAIC STUDENT CARD\n",
      "Student Name : Muhammad Aamir Rana\n",
      "Father's Name: Muhammad Amin\n",
      "Age: Master in Data Science\n",
      "Education :30 \n",
      "Roll Number:42011  \n",
      "\n"
     ]
    }
   ],
   "source": [
    "name : str = \"Muhammad Aamir Rana\"\n",
    "fname: str = \"Muhammad Amin\"\n",
    "education : str = \"Master in Data Science\"\n",
    "age : int = 30\n",
    "roll_Number : int = 42011\n",
    "\n",
    "card1 : str = \"\"\"\n",
    "PIAIC STUDENT CARD\n",
    "Student Name : {a}\n",
    "Father's Name: {b}\n",
    "Age: {c}\n",
    "Education :{d} \n",
    "Roll Number:{e}  \n",
    "\"\"\".format(a = name,b= fname,c= education,d = age,e = roll_Number)\n",
    "print(card1)"
   ]
  },
  {
   "cell_type": "code",
   "execution_count": 1,
   "metadata": {},
   "outputs": [
    {
     "name": "stdout",
     "output_type": "stream",
     "text": [
      "My Name is Muhammad Kamran junyjo khan\n",
      "I belong to Dubai Country\n",
      "21\n"
     ]
    }
   ],
   "source": [
    "student_Code : str = f\"\"\"\n",
    "print (\"My Name is Muhammad Kamran junyjo khan\")\n",
    "print  (\"I belong to Dubai Country\")\n",
    "a : int = 7\n",
    "b : int = 7\n",
    "c : int = 7\n",
    "print(a + b + c)\n",
    "\"\"\"\n",
    "exec(student_Code)\n"
   ]
  },
  {
   "cell_type": "markdown",
   "metadata": {},
   "source": [
    "### Explor String methods and attributes"
   ]
  },
  {
   "cell_type": "markdown",
   "metadata": {},
   "source": [
    "- print\n",
    "- type\n",
    "- id \n",
    "- len \n"
   ]
  },
  {
   "cell_type": "markdown",
   "metadata": {},
   "source": [
    "### these are function"
   ]
  },
  {
   "cell_type": "code",
   "execution_count": 2,
   "metadata": {},
   "outputs": [
    {
     "name": "stdout",
     "output_type": "stream",
     "text": [
      "['capitalize', 'casefold', 'center', 'count', 'encode', 'endswith', 'expandtabs', 'find', 'format', 'format_map', 'index', 'isalnum', 'isalpha', 'isascii', 'isdecimal', 'isdigit', 'isidentifier', 'islower', 'isnumeric', 'isprintable', 'isspace', 'istitle', 'isupper', 'join', 'ljust', 'lower', 'lstrip', 'maketrans', 'partition', 'removeprefix', 'removesuffix', 'replace', 'rfind', 'rindex', 'rjust', 'rpartition', 'rsplit', 'rstrip', 'split', 'splitlines', 'startswith', 'strip', 'swapcase', 'title', 'translate', 'upper', 'zfill']\n",
      "47\n"
     ]
    }
   ],
   "source": [
    "a : list[str] = [i for i in dir (str) if \"__\" not in i]\n",
    "print(a)\n",
    "print(len(a))"
   ]
  },
  {
   "cell_type": "code",
   "execution_count": 3,
   "metadata": {},
   "outputs": [
    {
     "data": {
      "text/plain": [
       "'MuHaMMAD KAMRAN jAan'"
      ]
     },
     "execution_count": 3,
     "metadata": {},
     "output_type": "execute_result"
    }
   ],
   "source": [
    "name : str = \"     MuHaMMAD     KAMRAN jAan     \"\n",
    "name"
   ]
  },
  {
   "cell_type": "code",
   "execution_count": 7,
   "metadata": {},
   "outputs": [
    {
     "name": "stdout",
     "output_type": "stream",
     "text": [
      "Muhammad kamran jaan\n"
     ]
    }
   ],
   "source": [
    "print(name.capitalize())\n"
   ]
  },
  {
   "cell_type": "code",
   "execution_count": 11,
   "metadata": {},
   "outputs": [
    {
     "name": "stdout",
     "output_type": "stream",
     "text": [
      "MUHAMMAD KAMRAN JAAN\n"
     ]
    }
   ],
   "source": [
    "print(name.upper())\n",
    "\n"
   ]
  },
  {
   "cell_type": "code",
   "execution_count": 13,
   "metadata": {},
   "outputs": [
    {
     "name": "stdout",
     "output_type": "stream",
     "text": [
      "muhammad kamran jaan\n"
     ]
    }
   ],
   "source": [
    "print(name.casefold())"
   ]
  },
  {
   "cell_type": "code",
   "execution_count": 16,
   "metadata": {},
   "outputs": [
    {
     "data": {
      "text/plain": [
       "'Muhammad Kamran Jaan'"
      ]
     },
     "metadata": {},
     "output_type": "display_data"
    }
   ],
   "source": [
    "display(name.title())"
   ]
  },
  {
   "cell_type": "markdown",
   "metadata": {},
   "source": [
    "#### You can use f-string to compose a message like this"
   ]
  },
  {
   "cell_type": "code",
   "execution_count": 18,
   "metadata": {},
   "outputs": [
    {
     "name": "stdout",
     "output_type": "stream",
     "text": [
      "Hello,Mr Elca,Johne!\n"
     ]
    }
   ],
   "source": [
    "first_Name = \"Elca\"\n",
    "last_Name = \"Johne\"\n",
    "full_Name = f\"{first_Name},{last_Name}\"\n",
    "message = f\"Hello,Mr {full_Name.title()}!\"\n",
    "print(message)"
   ]
  },
  {
   "cell_type": "code",
   "execution_count": null,
   "metadata": {},
   "outputs": [],
   "source": []
  }
 ],
 "metadata": {
  "kernelspec": {
   "display_name": "base",
   "language": "python",
   "name": "python3"
  },
  "language_info": {
   "codemirror_mode": {
    "name": "ipython",
    "version": 3
   },
   "file_extension": ".py",
   "mimetype": "text/x-python",
   "name": "python",
   "nbconvert_exporter": "python",
   "pygments_lexer": "ipython3",
   "version": "3.11.5"
  }
 },
 "nbformat": 4,
 "nbformat_minor": 2
}
