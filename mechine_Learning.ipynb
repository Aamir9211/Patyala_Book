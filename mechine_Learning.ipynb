{
 "cells": [
  {
   "cell_type": "markdown",
   "metadata": {},
   "source": [
    "# Mechine Learning Programm"
   ]
  },
  {
   "cell_type": "markdown",
   "metadata": {},
   "source": [
    "- ### Simple Linear Regression"
   ]
  },
  {
   "cell_type": "code",
   "execution_count": 10,
   "metadata": {},
   "outputs": [
    {
     "name": "stdout",
     "output_type": "stream",
     "text": [
      "Now start mechine learning course please becarefull ok\n"
     ]
    }
   ],
   "source": [
    "print (\"Now start mechine learning course please becarefull ok\")"
   ]
  },
  {
   "cell_type": "code",
   "execution_count": 11,
   "metadata": {},
   "outputs": [
    {
     "name": "stdout",
     "output_type": "stream",
     "text": [
      "Big Deal on meachine learning \n"
     ]
    }
   ],
   "source": [
    "print (\"Big Deal on meachine learning \")\n"
   ]
  },
  {
   "cell_type": "code",
   "execution_count": 12,
   "metadata": {},
   "outputs": [
    {
     "name": "stdout",
     "output_type": "stream",
     "text": [
      "4\n"
     ]
    }
   ],
   "source": [
    "print (2 + 2)"
   ]
  },
  {
   "cell_type": "code",
   "execution_count": 13,
   "metadata": {},
   "outputs": [],
   "source": [
    "name : str = \"Muhammad Aamir Rana\"\n",
    "fname: str = \"Muhammad Amin\"\n",
    "education : str = \"Master in Data Science\"\n",
    "age : int = 30\n",
    "roll_Number : int = 42011\n",
    "\n",
    "# card : str = \"PIAIC STUDENT CARD Student Name: \" + name\n",
    "# card"
   ]
  },
  {
   "cell_type": "markdown",
   "metadata": {},
   "source": []
  },
  {
   "cell_type": "markdown",
   "metadata": {},
   "source": [
    "## F- string"
   ]
  },
  {
   "cell_type": "code",
   "execution_count": 7,
   "metadata": {},
   "outputs": [
    {
     "name": "stdout",
     "output_type": "stream",
     "text": [
      "\n",
      "PIAIC STUDENT CARD\n",
      "Student Name : Muhammad Aamir Rana\n",
      "Father's Name: Muhammad Amin\n",
      "Age: 30\n",
      "Education :Master in Data Science \n",
      "Roll Number:42011  \n",
      "Total 435\n",
      "\n"
     ]
    }
   ],
   "source": [
    "name : str = \"Muhammad Aamir Rana\"\n",
    "fname: str = \"Muhammad Amin\"\n",
    "education : str = \"Master in Data Science\"\n",
    "age : int = 30\n",
    "roll_Number : int = 42011\n",
    "\n",
    "card : str = f\"\"\"\n",
    "PIAIC STUDENT CARD\n",
    "Student Name : {name}\n",
    "Father's Name: {fname}\n",
    "Age: {age}\n",
    "Education :{education} \n",
    "Roll Number:{roll_Number}  \n",
    "Total {29 + 2 + 4 + 400}\n",
    "\"\"\"\n",
    "print(card)"
   ]
  },
  {
   "cell_type": "markdown",
   "metadata": {},
   "source": [
    "## jinja Style"
   ]
  },
  {
   "cell_type": "markdown",
   "metadata": {},
   "source": [
    "\"\"\"\n",
    "Student name {{name}}\n",
    "\"\"\""
   ]
  },
  {
   "cell_type": "markdown",
   "metadata": {},
   "source": [
    "## list comprehensive "
   ]
  },
  {
   "cell_type": "code",
   "execution_count": 8,
   "metadata": {},
   "outputs": [
    {
     "data": {
      "text/plain": [
       "['capitalize',\n",
       " 'casefold',\n",
       " 'center',\n",
       " 'count',\n",
       " 'encode',\n",
       " 'endswith',\n",
       " 'expandtabs',\n",
       " 'find',\n",
       " 'format',\n",
       " 'format_map',\n",
       " 'index',\n",
       " 'isalnum',\n",
       " 'isalpha',\n",
       " 'isascii',\n",
       " 'isdecimal',\n",
       " 'isdigit',\n",
       " 'isidentifier',\n",
       " 'islower',\n",
       " 'isnumeric',\n",
       " 'isprintable',\n",
       " 'isspace',\n",
       " 'istitle',\n",
       " 'isupper',\n",
       " 'join',\n",
       " 'ljust',\n",
       " 'lower',\n",
       " 'lstrip',\n",
       " 'maketrans',\n",
       " 'partition',\n",
       " 'removeprefix',\n",
       " 'removesuffix',\n",
       " 'replace',\n",
       " 'rfind',\n",
       " 'rindex',\n",
       " 'rjust',\n",
       " 'rpartition',\n",
       " 'rsplit',\n",
       " 'rstrip',\n",
       " 'split',\n",
       " 'splitlines',\n",
       " 'startswith',\n",
       " 'strip',\n",
       " 'swapcase',\n",
       " 'title',\n",
       " 'translate',\n",
       " 'upper',\n",
       " 'zfill']"
      ]
     },
     "execution_count": 8,
     "metadata": {},
     "output_type": "execute_result"
    }
   ],
   "source": [
    "[i for i in dir (str) if \"__\" not in i]"
   ]
  },
  {
   "cell_type": "markdown",
   "metadata": {},
   "source": [
    "## PLACE HOLDER KEHLATA H. YE KARLI BRAKIT { } YE. "
   ]
  },
  {
   "cell_type": "markdown",
   "metadata": {},
   "source": [
    "### YE FORMAT KA METHOD H. "
   ]
  },
  {
   "cell_type": "code",
   "execution_count": 10,
   "metadata": {},
   "outputs": [
    {
     "data": {
      "text/plain": [
       "'Pakistan value a = 7 and value b = 8'"
      ]
     },
     "execution_count": 10,
     "metadata": {},
     "output_type": "execute_result"
    }
   ],
   "source": [
    "a = 7\n",
    "b = 8\n",
    "\"Pakistan value a = {} and value b = {}\".format(a,b)\n"
   ]
  },
  {
   "cell_type": "markdown",
   "metadata": {},
   "source": [
    "### .format wala tarika "
   ]
  },
  {
   "cell_type": "markdown",
   "metadata": {},
   "source": [
    "### UNSEKVENCE DATA VARIBALES "
   ]
  },
  {
   "cell_type": "code",
   "execution_count": 12,
   "metadata": {},
   "outputs": [
    {
     "name": "stdout",
     "output_type": "stream",
     "text": [
      "\n",
      "PIAIC STUDENT CARD\n",
      "Student Name : Muhammad Aamir Rana\n",
      "Father's Name: Muhammad Amin\n",
      "Age: Master in Data Science\n",
      "Education :30 \n",
      "Roll Number:42011  \n",
      "\n"
     ]
    }
   ],
   "source": [
    "name : str = \"Muhammad Aamir Rana\"\n",
    "fname: str = \"Muhammad Amin\"\n",
    "education : str = \"Master in Data Science\"\n",
    "age : int = 30\n",
    "roll_Number : int = 42011\n",
    "\n",
    "card1 : str = \"\"\"\n",
    "PIAIC STUDENT CARD\n",
    "Student Name : {}\n",
    "Father's Name: {}\n",
    "Age: {}\n",
    "Education :{} \n",
    "Roll Number:{}  \n",
    "\"\"\".format(name,fname,education,age,roll_Number)\n",
    "print(card1)"
   ]
  },
  {
   "cell_type": "markdown",
   "metadata": {},
   "source": [
    "## 2nd Tareka for indexing number dy kar ap variable set kar sakty hain."
   ]
  },
  {
   "cell_type": "code",
   "execution_count": 14,
   "metadata": {},
   "outputs": [
    {
     "name": "stdout",
     "output_type": "stream",
     "text": [
      "\n",
      "PIAIC STUDENT CARD\n",
      "Student Name : Muhammad Aamir Rana\n",
      "Father's Name: Muhammad Amin\n",
      "Age: 30\n",
      "Education :Master in Data Science \n",
      "Roll Number:42011  \n",
      "\n"
     ]
    }
   ],
   "source": [
    "name : str = \"Muhammad Aamir Rana\"\n",
    "fname: str = \"Muhammad Amin\"\n",
    "education : str = \"Master in Data Science\"\n",
    "age : int = 30\n",
    "roll_Number : int = 42011\n",
    "\n",
    "card1 : str = \"\"\"\n",
    "PIAIC STUDENT CARD\n",
    "Student Name : {0}\n",
    "Father's Name: {1}\n",
    "Age: {3}\n",
    "Education :{2} \n",
    "Roll Number:{4}  \n",
    "\"\"\".format(name,fname,education,age,roll_Number)\n",
    "print(card1)"
   ]
  },
  {
   "cell_type": "markdown",
   "metadata": {},
   "source": [
    "### AP INDEXING KI JAGAH APNA KOI BHI NAME DY SAKTY HAIN YE 3rd TARIKA H. EXAMPLE AP K SAMNY"
   ]
  },
  {
   "cell_type": "code",
   "execution_count": 15,
   "metadata": {},
   "outputs": [
    {
     "name": "stdout",
     "output_type": "stream",
     "text": [
      "\n",
      "PIAIC STUDENT CARD\n",
      "Student Name : Muhammad Aamir Rana\n",
      "Father's Name: Muhammad Amin\n",
      "Age: Master in Data Science\n",
      "Education :30 \n",
      "Roll Number:42011  \n",
      "\n"
     ]
    }
   ],
   "source": [
    "name : str = \"Muhammad Aamir Rana\"\n",
    "fname: str = \"Muhammad Amin\"\n",
    "education : str = \"Master in Data Science\"\n",
    "age : int = 30\n",
    "roll_Number : int = 42011\n",
    "\n",
    "card1 : str = \"\"\"\n",
    "PIAIC STUDENT CARD\n",
    "Student Name : {a}\n",
    "Father's Name: {b}\n",
    "Age: {c}\n",
    "Education :{d} \n",
    "Roll Number:{e}  \n",
    "\"\"\".format(a = name,b= fname,c= education,d = age,e = roll_Number)\n",
    "print(card1)"
   ]
  },
  {
   "cell_type": "code",
   "execution_count": 1,
   "metadata": {},
   "outputs": [
    {
     "name": "stdout",
     "output_type": "stream",
     "text": [
      "My Name is Muhammad Kamran junyjo khan\n",
      "I belong to Dubai Country\n",
      "21\n"
     ]
    }
   ],
   "source": [
    "student_Code : str = f\"\"\"\n",
    "print (\"My Name is Muhammad Kamran junyjo khan\")\n",
    "print  (\"I belong to Dubai Country\")\n",
    "a : int = 7\n",
    "b : int = 7\n",
    "c : int = 7\n",
    "print(a + b + c)\n",
    "\"\"\"\n",
    "exec(student_Code)\n"
   ]
  },
  {
   "cell_type": "markdown",
   "metadata": {},
   "source": [
    "### Explor String methods and attributes"
   ]
  },
  {
   "cell_type": "markdown",
   "metadata": {},
   "source": [
    "- print\n",
    "- type\n",
    "- id \n",
    "- len \n"
   ]
  },
  {
   "cell_type": "markdown",
   "metadata": {},
   "source": [
    "### these are function"
   ]
  },
  {
   "cell_type": "code",
   "execution_count": 2,
   "metadata": {},
   "outputs": [
    {
     "name": "stdout",
     "output_type": "stream",
     "text": [
      "['capitalize', 'casefold', 'center', 'count', 'encode', 'endswith', 'expandtabs', 'find', 'format', 'format_map', 'index', 'isalnum', 'isalpha', 'isascii', 'isdecimal', 'isdigit', 'isidentifier', 'islower', 'isnumeric', 'isprintable', 'isspace', 'istitle', 'isupper', 'join', 'ljust', 'lower', 'lstrip', 'maketrans', 'partition', 'removeprefix', 'removesuffix', 'replace', 'rfind', 'rindex', 'rjust', 'rpartition', 'rsplit', 'rstrip', 'split', 'splitlines', 'startswith', 'strip', 'swapcase', 'title', 'translate', 'upper', 'zfill']\n",
      "47\n"
     ]
    }
   ],
   "source": [
    "a : list[str] = [i for i in dir (str) if \"__\" not in i]\n",
    "print(a)\n",
    "print(len(a))"
   ]
  },
  {
   "cell_type": "code",
   "execution_count": 3,
   "metadata": {},
   "outputs": [
    {
     "data": {
      "text/plain": [
       "'MuHaMMAD KAMRAN jAan'"
      ]
     },
     "execution_count": 3,
     "metadata": {},
     "output_type": "execute_result"
    }
   ],
   "source": [
    "name : str = \"     MuHaMMAD     KAMRAN jAan     \"\n",
    "name"
   ]
  },
  {
   "cell_type": "code",
   "execution_count": 7,
   "metadata": {},
   "outputs": [
    {
     "name": "stdout",
     "output_type": "stream",
     "text": [
      "Muhammad kamran jaan\n"
     ]
    }
   ],
   "source": [
    "print(name.capitalize())\n"
   ]
  },
  {
   "cell_type": "code",
   "execution_count": 11,
   "metadata": {},
   "outputs": [
    {
     "name": "stdout",
     "output_type": "stream",
     "text": [
      "MUHAMMAD KAMRAN JAAN\n"
     ]
    }
   ],
   "source": [
    "print(name.upper())\n",
    "\n"
   ]
  },
  {
   "cell_type": "code",
   "execution_count": 13,
   "metadata": {},
   "outputs": [
    {
     "name": "stdout",
     "output_type": "stream",
     "text": [
      "muhammad kamran jaan\n"
     ]
    }
   ],
   "source": [
    "print(name.casefold())"
   ]
  },
  {
   "cell_type": "code",
   "execution_count": 16,
   "metadata": {},
   "outputs": [
    {
     "data": {
      "text/plain": [
       "'Muhammad Kamran Jaan'"
      ]
     },
     "metadata": {},
     "output_type": "display_data"
    }
   ],
   "source": [
    "display(name.title())"
   ]
  },
  {
   "cell_type": "markdown",
   "metadata": {},
   "source": [
    "#### You can use f-string to compose a message like this"
   ]
  },
  {
   "cell_type": "code",
   "execution_count": 18,
   "metadata": {},
   "outputs": [
    {
     "name": "stdout",
     "output_type": "stream",
     "text": [
      "Hello,Mr Elca,Johne!\n"
     ]
    }
   ],
   "source": [
    "first_Name = \"Elca\"\n",
    "last_Name = \"Johne\"\n",
    "full_Name = f\"{first_Name},{last_Name}\"\n",
    "message = f\"Hello,Mr {full_Name.title()}!\"\n",
    "print(message)"
   ]
  },
  {
   "cell_type": "code",
   "execution_count": 20,
   "metadata": {},
   "outputs": [
    {
     "name": "stdout",
     "output_type": "stream",
     "text": [
      "Name:\t\t\t\t Muhammd \t\t Qasim\n"
     ]
    }
   ],
   "source": [
    "print(\"Name:\\t\\t\\t\\t Muhammd \\t\\t Qasim\")"
   ]
  },
  {
   "cell_type": "code",
   "execution_count": 21,
   "metadata": {},
   "outputs": [
    {
     "name": "stdout",
     "output_type": "stream",
     "text": [
      "Name:\t\t\t\t Muhammd \t\t Qasim\n"
     ]
    }
   ],
   "source": [
    "print(\"Name:\\t\\t\\t\\t Muhammd \\t\\t Qasim\")\n"
   ]
  },
  {
   "cell_type": "markdown",
   "metadata": {},
   "source": [
    "a : list[str] = [i for i in dir (str) if \"__\" not in i]\n",
    "print(a)\n",
    "print(len(a))"
   ]
  },
  {
   "cell_type": "markdown",
   "metadata": {},
   "source": [
    "#### Yes or No Answer Method for input"
   ]
  },
  {
   "cell_type": "code",
   "execution_count": 24,
   "metadata": {},
   "outputs": [
    {
     "data": {
      "text/plain": [
       "['<',\n",
       " '=',\n",
       " '>',\n",
       " '?',\n",
       " '@',\n",
       " 'A',\n",
       " 'B',\n",
       " 'C',\n",
       " 'D',\n",
       " 'E',\n",
       " 'F',\n",
       " 'G',\n",
       " 'H',\n",
       " 'I',\n",
       " 'J',\n",
       " 'K',\n",
       " 'L',\n",
       " 'M',\n",
       " 'N',\n",
       " 'O',\n",
       " 'P',\n",
       " 'Q',\n",
       " 'R',\n",
       " 'S',\n",
       " 'T',\n",
       " 'U',\n",
       " 'V',\n",
       " 'W',\n",
       " 'X',\n",
       " 'Y',\n",
       " 'Z']"
      ]
     },
     "execution_count": 24,
     "metadata": {},
     "output_type": "execute_result"
    }
   ],
   "source": [
    "names : list[str] = [chr(i) for i in range(60,91)]\n",
    "names"
   ]
  },
  {
   "cell_type": "markdown",
   "metadata": {},
   "source": [
    "### in or not in wala method"
   ]
  },
  {
   "cell_type": "code",
   "execution_count": 28,
   "metadata": {},
   "outputs": [
    {
     "data": {
      "text/plain": [
       "False"
      ]
     },
     "execution_count": 28,
     "metadata": {},
     "output_type": "execute_result"
    }
   ],
   "source": [
    "name2 : list[str] = [\"Sir Zia\",\"Kamran joya\", \"Furqan\", \"Noman\"]\n",
    "username : str = input(\"Enter your Name Please\")\n",
    "username in name2"
   ]
  },
  {
   "cell_type": "code",
   "execution_count": 29,
   "metadata": {},
   "outputs": [
    {
     "name": "stdout",
     "output_type": "stream",
     "text": [
      "['capitalize', 'casefold', 'center', 'count', 'encode', 'endswith', 'expandtabs', 'find', 'format', 'format_map', 'index', 'isalnum', 'isalpha', 'isascii', 'isdecimal', 'isdigit', 'isidentifier', 'islower', 'isnumeric', 'isprintable', 'isspace', 'istitle', 'isupper', 'join', 'ljust', 'lower', 'lstrip', 'maketrans', 'partition', 'removeprefix', 'removesuffix', 'replace', 'rfind', 'rindex', 'rjust', 'rpartition', 'rsplit', 'rstrip', 'split', 'splitlines', 'startswith', 'strip', 'swapcase', 'title', 'translate', 'upper', 'zfill']\n",
      "47\n"
     ]
    }
   ],
   "source": [
    "a : list[str] = [i for i in dir (str) if \"__\" not in i]\n",
    "print(a)\n",
    "print(len(a))\n"
   ]
  },
  {
   "cell_type": "code",
   "execution_count": null,
   "metadata": {},
   "outputs": [],
   "source": [
    "a : list [str] = [i for i in dir (str) if \"__\" not in i]\n",
    "a : list [str] = [i for i in dir [str] if \"__\" not in i]\n",
    "a : list [str] = [i for i in dir [str] if \"__\" not in i]\n",
    "a : list [str] = [i for i in dir [str] if \"__\" not in i]\n",
    "a : list [str] = [i for i in dir [str] if \"__\" not in i]\n",
    "a : list [str] = [i for i in dir [str] if \"__\" not in i]\n",
    "a : list [str] = [i for i in dir [str] if \"__\" not in i]\n",
    "a : list [str] = [i for i in dir [str] if \"__\" not in i]\n",
    "a : list [str] = [i for i in dir [str] if \"__\" not in i]\n",
    "a : list [str] = [i for i in dir [str] if \"__\" not in i]\n",
    "a : list [str] = [i for i in dir [str] if \"__\" not in i]\n",
    "a : list [str] = [i for i in dir [str] if \"__\" not in i]\n",
    "a : list [str] = [i for i in dir [str] if \"__\" not in i]\n"
   ]
  },
  {
   "cell_type": "code",
   "execution_count": null,
   "metadata": {},
   "outputs": [],
   "source": [
    "a : list[str] = [i for i in dir [str] if \"__\" not in i ]"
   ]
  },
  {
   "cell_type": "code",
   "execution_count": null,
   "metadata": {},
   "outputs": [],
   "source": []
  },
  {
   "cell_type": "code",
   "execution_count": 32,
   "metadata": {},
   "outputs": [
    {
     "name": "stdout",
     "output_type": "stream",
     "text": [
      "['capitalize', 'casefold', 'center', 'count', 'encode', 'endswith', 'expandtabs', 'find', 'format', 'format_map', 'index', 'isalnum', 'isalpha', 'isascii', 'isdecimal', 'isdigit', 'isidentifier', 'islower', 'isnumeric', 'isprintable', 'isspace', 'istitle', 'isupper', 'join', 'ljust', 'lower', 'lstrip', 'maketrans', 'partition', 'removeprefix', 'removesuffix', 'replace', 'rfind', 'rindex', 'rjust', 'rpartition', 'rsplit', 'rstrip', 'split', 'splitlines', 'startswith', 'strip', 'swapcase', 'title', 'translate', 'upper', 'zfill']\n"
     ]
    }
   ],
   "source": [
    "a : list [str] = [i for i in dir (str) if \"__\" not in i]\n",
    "print (a)"
   ]
  },
  {
   "cell_type": "code",
   "execution_count": 42,
   "metadata": {},
   "outputs": [
    {
     "name": "stdout",
     "output_type": "stream",
     "text": [
      "47\n",
      "['capitalize', 'casefold', 'center', 'count', 'encode', 'endswith', 'expandtabs', 'find', 'format', 'format_map', 'index', 'isalnum', 'isalpha', 'isascii', 'isdecimal', 'isdigit', 'isidentifier', 'islower', 'isnumeric', 'isprintable', 'isspace', 'istitle', 'isupper', 'join', 'ljust', 'lower', 'lstrip', 'maketrans', 'partition', 'removeprefix', 'removesuffix', 'replace', 'rfind', 'rindex', 'rjust', 'rpartition', 'rsplit', 'rstrip', 'split', 'splitlines', 'startswith', 'strip', 'swapcase', 'title', 'translate', 'upper', 'zfill']\n"
     ]
    }
   ],
   "source": [
    "a : list [str] = [i for i in dir (str) if \"__\" not in i]\n",
    "print(len(a))\n",
    "print(a)"
   ]
  },
  {
   "cell_type": "code",
   "execution_count": 43,
   "metadata": {},
   "outputs": [
    {
     "data": {
      "text/plain": [
       "['capitalize',\n",
       " 'casefold',\n",
       " 'center',\n",
       " 'count',\n",
       " 'encode',\n",
       " 'endswith',\n",
       " 'expandtabs',\n",
       " 'find',\n",
       " 'format',\n",
       " 'format_map',\n",
       " 'index',\n",
       " 'isalnum',\n",
       " 'isalpha',\n",
       " 'isascii',\n",
       " 'isdecimal',\n",
       " 'isdigit',\n",
       " 'isidentifier',\n",
       " 'islower',\n",
       " 'isnumeric',\n",
       " 'isprintable',\n",
       " 'isspace',\n",
       " 'istitle',\n",
       " 'isupper',\n",
       " 'join',\n",
       " 'ljust',\n",
       " 'lower',\n",
       " 'lstrip',\n",
       " 'maketrans',\n",
       " 'partition',\n",
       " 'removeprefix',\n",
       " 'removesuffix',\n",
       " 'replace',\n",
       " 'rfind',\n",
       " 'rindex',\n",
       " 'rjust',\n",
       " 'rpartition',\n",
       " 'rsplit',\n",
       " 'rstrip',\n",
       " 'split',\n",
       " 'splitlines',\n",
       " 'startswith',\n",
       " 'strip',\n",
       " 'swapcase',\n",
       " 'title',\n",
       " 'translate',\n",
       " 'upper',\n",
       " 'zfill']"
      ]
     },
     "execution_count": 43,
     "metadata": {},
     "output_type": "execute_result"
    }
   ],
   "source": [
    "a : list [str] = [i for i in dir (str)if \"__\"not in i]\n",
    "a : list [str] = [i for i in dir (str)if \"__\"not in i]\n",
    "a : list [str] = [i for i in dir (str)if \"__\"not in i]\n",
    "a : list [str] = [i for i in dir (str)if \"__\"not in i]\n",
    "a : list [str] = [i for i in dir (str)if \"__\"not in i]\n",
    "a : list [str] = [i for i in dir (str)if \"__\"not in i]"
   ]
  },
  {
   "cell_type": "code",
   "execution_count": 1,
   "metadata": {},
   "outputs": [
    {
     "data": {
      "text/plain": [
       "['wahab', 'Tony', 'waris', 'jameel']"
      ]
     },
     "execution_count": 1,
     "metadata": {},
     "output_type": "execute_result"
    }
   ],
   "source": [
    "name : list [str] = [\"wahab\",\"Tony\",\"waris\",\"jameel\"]\n",
    "name"
   ]
  },
  {
   "cell_type": "code",
   "execution_count": 3,
   "metadata": {},
   "outputs": [
    {
     "name": "stdout",
     "output_type": "stream",
     "text": [
      "wahab\n",
      "Tony\n",
      "waris\n",
      "jameel\n",
      "kamran\n",
      "faysal\n",
      "noman\n"
     ]
    }
   ],
   "source": [
    "name : list [str] = [\"wahab\",\"Tony\",\"waris\",\"jameel\",\"kamran\",\"faysal\",\"noman\"]\n",
    "for nano in name :\n",
    "    print(nano)"
   ]
  },
  {
   "cell_type": "code",
   "execution_count": null,
   "metadata": {},
   "outputs": [],
   "source": [
    "# While loops   "
   ]
  },
  {
   "cell_type": "code",
   "execution_count": 3,
   "metadata": {},
   "outputs": [
    {
     "name": "stdout",
     "output_type": "stream",
     "text": [
      "0\n",
      "1\n",
      "2\n",
      "3\n",
      "4\n",
      "5\n"
     ]
    }
   ],
   "source": [
    "x = 0\n",
    "while (x<=5):\n",
    "    print(x)\n",
    "    x=x+1"
   ]
  },
  {
   "cell_type": "code",
   "execution_count": 4,
   "metadata": {},
   "outputs": [
    {
     "name": "stdout",
     "output_type": "stream",
     "text": [
      "5\n",
      "6\n",
      "7\n",
      "8\n",
      "9\n"
     ]
    }
   ],
   "source": [
    "for x in range (5,10):\n",
    "    print(x)"
   ]
  },
  {
   "cell_type": "code",
   "execution_count": 5,
   "metadata": {},
   "outputs": [
    {
     "name": "stdout",
     "output_type": "stream",
     "text": [
      "Mon\n",
      "Tue\n",
      "Wed\n",
      "Thu\n",
      "Fri\n",
      "Sat\n",
      "Sun\n"
     ]
    }
   ],
   "source": [
    "days : list [str] = [\"Mon\",\"Tue\",\"Wed\",\"Thu\",\"Fri\",\"Sat\",\"Sun\"]\n",
    "\n",
    "for din in days : \n",
    "    print (din)\n"
   ]
  },
  {
   "cell_type": "code",
   "execution_count": 6,
   "metadata": {},
   "outputs": [
    {
     "name": "stdout",
     "output_type": "stream",
     "text": [
      "Mon\n",
      "Tue\n",
      "Wed\n",
      "Thu\n"
     ]
    }
   ],
   "source": [
    "days : list [str] = [\"Mon\",\"Tue\",\"Wed\",\"Thu\",\"Fri\",\"Sat\",\"Sun\"]\n",
    "\n",
    "for din in days :\n",
    "    if (din==\"Fri\"):\n",
    "        break\n",
    "    print (din)"
   ]
  },
  {
   "cell_type": "code",
   "execution_count": 7,
   "metadata": {},
   "outputs": [
    {
     "name": "stdout",
     "output_type": "stream",
     "text": [
      "Mon\n",
      "Tue\n",
      "Wed\n",
      "Thu\n",
      "Sat\n",
      "Sun\n"
     ]
    }
   ],
   "source": [
    "days : list [str] = [\"Mon\",\"Tue\",\"Wed\",\"Thu\",\"Fri\",\"Sat\",\"Sun\"]\n",
    "\n",
    "for din in days :\n",
    "    if (din==\"Fri\"):\n",
    "        continue\n",
    "    print (din)"
   ]
  },
  {
   "cell_type": "code",
   "execution_count": 8,
   "metadata": {},
   "outputs": [
    {
     "name": "stdout",
     "output_type": "stream",
     "text": [
      "zia\n",
      "kamran\n",
      "fakhir\n",
      "wajid\n",
      "majid\n",
      "kamal\n",
      "jameel\n"
     ]
    }
   ],
   "source": [
    "tname : list [str] = ['zia','kamran','fakhir','wajid','majid','kamal','jameel']\n",
    "\n",
    "for teac_name in tname : \n",
    "    print(teac_name)"
   ]
  },
  {
   "cell_type": "code",
   "execution_count": 13,
   "metadata": {},
   "outputs": [
    {
     "name": "stdout",
     "output_type": "stream",
     "text": [
      "Dear,Sir,zia,Well come to my school\n",
      "\n",
      "Dear,Sir,kamran,Well come to my school\n",
      "\n",
      "Dear,Sir,fakhir,Well come to my school\n",
      "\n",
      "Dear,Sir,wajid,Well come to my school\n",
      "\n",
      "Dear,Sir,majid,Well come to my school\n",
      "\n",
      "Dear,Sir,kamal,Well come to my school\n",
      "\n",
      "Dear,Sir,jameel,Well come to my school\n",
      "\n"
     ]
    }
   ],
   "source": [
    "tname : list [str] = ['zia','kamran','fakhir','wajid','majid','kamal','jameel']\n",
    "\n",
    "for teac_name in tname : \n",
    "    print(f'Dear,Sir,{teac_name},Well come to my school\\n')\n",
    "\n",
    "          \n",
    "\n",
    "\n"
   ]
  },
  {
   "cell_type": "code",
   "execution_count": 15,
   "metadata": {},
   "outputs": [
    {
     "name": "stdout",
     "output_type": "stream",
     "text": [
      "Dear,Sir,zia,Well come to my school\n",
      "Thank you for join us\n",
      "\n",
      "Dear,Sir,kamran,Well come to my school\n",
      "Thank you for join us\n",
      "\n",
      "Dear,Sir,fakhir,Well come to my school\n",
      "Thank you for join us\n",
      "\n",
      "Dear,Sir,wajid,Well come to my school\n",
      "Thank you for join us\n",
      "\n",
      "Dear,Sir,majid,Well come to my school\n",
      "Thank you for join us\n",
      "\n",
      "Dear,Sir,kamal,Well come to my school\n",
      "Thank you for join us\n",
      "\n",
      "Dear,Sir,jameel,Well come to my school\n",
      "Thank you for join us\n",
      "\n"
     ]
    }
   ],
   "source": [
    "tname : list [str] = ['zia','kamran','fakhir','wajid','majid','kamal','jameel']\n",
    "\n",
    "for teac_name in tname : \n",
    "    print(f'Dear,Sir,{teac_name},Well come to my school')\n",
    "    print(\"Thank you for join us\\n\")          \n",
    "\n",
    "\n"
   ]
  },
  {
   "cell_type": "code",
   "execution_count": 20,
   "metadata": {},
   "outputs": [
    {
     "name": "stdout",
     "output_type": "stream",
     "text": [
      "Dear,Sir,zia,Well come to my school\n",
      "Thank you for join us\n",
      "\n",
      "Dear,Sir,kamran,Well come to my school\n",
      "Thank you for join us\n",
      "\n",
      "Dear,Sir,fakhir,Well come to my school\n",
      "Thank you for join us\n",
      "\n",
      "Dear,Sir,majid,Well come to my school\n",
      "Thank you for join us\n",
      "\n",
      "Dear,Sir,kamal,Well come to my school\n",
      "Thank you for join us\n",
      "\n",
      "Dear,Sir,jameel,Well come to my school\n",
      "Thank you for join us\n",
      "\n"
     ]
    }
   ],
   "source": [
    "tname : list [str] = ['zia','kamran','fakhir','wajid','majid','kamal','jameel']\n",
    "\n",
    "for teac_name in tname : \n",
    "    if (teac_name==\"wajid\") : continue\n",
    "   \n",
    "    print(f'Dear,Sir,{teac_name},Well come to my school')\n",
    "    print(\"Thank you for join us\\n\")          \n",
    "\n",
    "\n"
   ]
  },
  {
   "cell_type": "code",
   "execution_count": 9,
   "metadata": {},
   "outputs": [
    {
     "name": "stdout",
     "output_type": "stream",
     "text": [
      "['candy', 'wandy', 'prince', 'lake', 'sooper', 'cocolawa', 'coklate']\n"
     ]
    }
   ],
   "source": [
    "customer : list [str] = ['candy','wandy','prince','lake','sooper','cocolawa','coklate']\n",
    "print(customer)"
   ]
  },
  {
   "cell_type": "code",
   "execution_count": null,
   "metadata": {},
   "outputs": [],
   "source": []
  },
  {
   "cell_type": "code",
   "execution_count": 34,
   "metadata": {},
   "outputs": [
    {
     "name": "stdout",
     "output_type": "stream",
     "text": [
      "candy\n",
      "wandy\n",
      "prince\n",
      "lake\n",
      "sooper\n",
      "cocolawa\n",
      "coklate\n"
     ]
    }
   ],
   "source": [
    "customer : list [str] = ['candy','wandy','prince','lake','sooper','cocolawa','coklate']\n",
    "for cs_name in customer : \n",
    "    print((cs_name))\n"
   ]
  },
  {
   "cell_type": "markdown",
   "metadata": {},
   "source": [
    "## List of Learning\n",
    "- First Programme \n",
    "- Operators\n",
    "- Strings/ F-Strings\n",
    "- Comments\n",
    "- Variables\n",
    "- input Variables\n",
    "- Conditional Logics\n",
    "- Type Conversion\n",
    "- if els or elif\n",
    "- Functions\n",
    "- Loops\n",
    "- Import Libraries\n",
    "- Trouble Shooting"
   ]
  },
  {
   "cell_type": "code",
   "execution_count": null,
   "metadata": {},
   "outputs": [],
   "source": [
    "name : str = \"Muhammad Aamir Rana\"\n",
    "fname: str = \"Muhammad Amin\"\n",
    "education : str = \"Master in Data Science\"\n",
    "age : int = 30\n",
    "roll_Number : int = 42011\n",
    "\n",
    "card : str = f\"\"\"\n",
    "PIAIC STUDENT CARD\n",
    "Student Name : {name}\n",
    "Father's Name: {fname}\n",
    "Age: {age}\n",
    "Education :{education} \n",
    "Roll Number:{roll_Number}  \n",
    "Total {29 + 2 + 4 + 400}\n",
    "\"\"\"\n",
    "print(card)"
   ]
  },
  {
   "cell_type": "code",
   "execution_count": 50,
   "metadata": {},
   "outputs": [
    {
     "name": "stdout",
     "output_type": "stream",
     "text": [
      "Student information \n",
      "Piaic Student Identity Card\n",
      "Student Name : ['Muhammad Kamran Khan']\n",
      "Father Name : ['M.Sohail']\n",
      "Education : ['28']\n",
      "Roll Number : ['92117']\n",
      "Marks : ['8092']\n",
      "\n"
     ]
    }
   ],
   "source": [
    "stname : [str] = ['Muhammad Kamran Khan']\n",
    "fatname : [str] = ['M.Sohail']\n",
    "educationf : [str] = ['Master in Law']\n",
    "egest : [str] = ['28']\n",
    "Roll_Num : [str] = ['92117']\n",
    "Totall_Marks : [str] = [\"8092\"]\n",
    "\n",
    "cardstd : str = f\"\"\"\n",
    "Piaic Student Identity Card\n",
    "Student Name : {stname}\n",
    "Father Name : {fatname}\n",
    "Education : {egest}\n",
    "Roll Number : {Roll_Num}\n",
    "Marks : {Totall_Marks}\n",
    "\"\"\"\n",
    "print('Student information',(cardstd))"
   ]
  },
  {
   "cell_type": "code",
   "execution_count": null,
   "metadata": {},
   "outputs": [
    {
     "name": "stdout",
     "output_type": "stream",
     "text": [
      "valid User\n"
     ]
    }
   ],
   "source": [
    " data_base : list [tuple[str,str]] = [(\"Qasim\", \"987\"),\n",
    "                                     (\"Junaid\",\"786\"),\n",
    "                                     (\"Kamran\",\"5948\"),\n",
    "                                     (\"Noman\",  \"497\"),\n",
    "                                     ]\n",
    "input_users : str = input (\"Enter user name\")\n",
    "input_password : str = input(\"Enter user Password\")\n",
    "\n",
    "for root_list2 in data_base : \n",
    "    user_one , password_s = root_list2\n",
    "    if input_users == input_users and input_password == password_s :\n",
    "     print(\"valid User\")\n",
    "# sdfsadf"
   ]
  },
  {
   "cell_type": "code",
   "execution_count": 69,
   "metadata": {},
   "outputs": [
    {
     "name": "stdout",
     "output_type": "stream",
     "text": [
      "valid User\n",
      " Thank you for joining\n"
     ]
    }
   ],
   "source": [
    "data_base : list [tuple[str,str,str]] = [(\"Qasim\", \"987\",\"497635\",),\n",
    "                                         (\"Junaid\",\"786\",\"497121\",),\n",
    "                                         (\"Kamran\",\"5948\",\"49721\",),\n",
    "                                         (\"Noman\",  \"497\",\"49723\",),\n",
    "                                        ]\n",
    "input_users : str = input (\"Enter user name\")\n",
    "input_password : str = input(\"Enter user Password\")\n",
    "input_id : str = input('Enter your id number')\n",
    "\n",
    "for root_list2 in data_base : \n",
    "    user , password , id = root_list2\n",
    "    if input_users == input_users and input_password == password and input_id == id :\n",
    "     print(\"valid User\\n\",'Thank you for joining')\n",
    "     break\n",
    "else: \n",
    "   print ('Unvaild Users\\n''Sorry you are not registerd','Please Register First')\n",
    "\n",
    "\n"
   ]
  },
  {
   "cell_type": "code",
   "execution_count": null,
   "metadata": {},
   "outputs": [],
   "source": [
    "a : list [str] = [i for i in dir (str)if \"__\"not in i]"
   ]
  },
  {
   "cell_type": "code",
   "execution_count": null,
   "metadata": {},
   "outputs": [],
   "source": [
    "a : list [str] = [i for i in dir (str)if \"__\" not in i]\n"
   ]
  }
 ],
 "metadata": {
  "kernelspec": {
   "display_name": "base",
   "language": "python",
   "name": "python3"
  },
  "language_info": {
   "codemirror_mode": {
    "name": "ipython",
    "version": 3
   },
   "file_extension": ".py",
   "mimetype": "text/x-python",
   "name": "python",
   "nbconvert_exporter": "python",
   "pygments_lexer": "ipython3",
   "version": "3.11.5"
  }
 },
 "nbformat": 4,
 "nbformat_minor": 2
}
